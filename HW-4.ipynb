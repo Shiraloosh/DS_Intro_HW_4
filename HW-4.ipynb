{
 "cells": [
  {
   "cell_type": "markdown",
   "id": "447675b3",
   "metadata": {},
   "source": [
    "# "
   ]
  },
  {
   "cell_type": "markdown",
   "id": "8954f12d",
   "metadata": {},
   "source": [
    "### HW-4 :Web services "
   ]
  },
  {
   "cell_type": "code",
   "execution_count": 42,
   "id": "43e39ca3",
   "metadata": {},
   "outputs": [],
   "source": [
    "import json\n",
    "import requests\n",
    "df=open(\"c:/temp/dests.txt\")\n",
    "#dic_cuntry=dic()\n",
    "api_key = 'api_user'\n",
    "origins=\"Jerusalem\"\n",
    "dic_cun={}"
   ]
  },
  {
   "cell_type": "code",
   "execution_count": 43,
   "id": "8ca6f112",
   "metadata": {},
   "outputs": [],
   "source": [
    "for line in df:\n",
    "    destinations=line.strip()\n",
    "    try:   \n",
    "        urlmatrix = \"https://maps.googleapis.com/maps/api/distancematrix/json?origins=%s&destinations=%s&key=%s\" % (origins,destinations,api_key)\n",
    "        urlgeocode=\"https://maps.googleapis.com/maps/api/geocode/json?address=%s&key=%s\" % (destinations,api_key)\n",
    "        try:\n",
    "            response = requests.get(urlmatrix)\n",
    "            response_geocode = requests.get(urlgeocode)\n",
    "            if not response.status_code == 200:\n",
    "                print(\"HTTP error\",response.status_code)\n",
    "                break\n",
    "            elif not response_geocode.status_code==200:\n",
    "                print(\"HTTP error\",response_geocode.status_code)\n",
    "                break\n",
    "            else:\n",
    "                    try:\n",
    "                                response_data = response.json()\n",
    "                                response_data_geocode = response_geocode.json()\n",
    "                                #gettung the distance in km\n",
    "                                distance=response_data['rows'][0]['elements'][0]['distance']['text']\n",
    "                                #gettung the duration in sec\n",
    "                                duration_hours=round(response_data['rows'][0]['elements'][0]['duration']['value']/3600)\n",
    "                                durationmin=round(response_data['rows'][0]['elements'][0]['duration']['value']/60)\n",
    "                                #geocode\n",
    "                                geo=response_data_geocode['results'][0]['geometry']['location']\n",
    "                                tuplecun=(distance,(duration_hours,durationmin),round(geo['lng']),round(geo['lat']))\n",
    "                                dic_cun[destinations]= tuplecun\n",
    "                                \n",
    "                    except:\n",
    "                                print(\"Response not in valid JSON format\")\n",
    "                   \n",
    "                                break\n",
    "        except:\n",
    "                        print(\"Something went wrong with requests.get\")\n",
    "                        break\n",
    "    except:\n",
    "             print(\"Something went wrong with URL\")\n",
    "             break\n",
    "\n",
    "#print(dic_cun)\n"
   ]
  },
  {
   "cell_type": "code",
   "execution_count": 48,
   "id": "83f5e854",
   "metadata": {},
   "outputs": [
    {
     "name": "stdout",
     "output_type": "stream",
     "text": [
      "Destination:Istanbul, Distance: 1,809 km, Duration in hours :21, Duration in minute :1242, Longitude: 29, Latitude : 41\n",
      "\n",
      "\n",
      "Destination:Amsterdam, Distance: 4,528 km, Duration in hours :48, Duration in minute :2853, Longitude: 5, Latitude : 52\n",
      "\n",
      "\n",
      "Destination:Valletta, Distance: 3,783 km, Duration in hours :50, Duration in minute :3029, Longitude: 15, Latitude : 36\n",
      "\n",
      "\n",
      "Destination:Basel, Distance: 4,091 km, Duration in hours :44, Duration in minute :2623, Longitude: 8, Latitude : 48\n",
      "\n",
      "\n",
      "Destination:Doha, Distance: 2,105 km, Duration in hours :22, Duration in minute :1316, Longitude: 52, Latitude : 25\n",
      "\n",
      "\n"
     ]
    }
   ],
   "source": [
    "#print the information for each destination and create a list of tuple that change the order between k,v\n",
    "tmp=[]\n",
    "for k, v in dic_cun.items():\n",
    "    tmp.append((v,k))\n",
    "    print (\"Destination:\"+ k +\", Distance: \"+v[0]+ \", Duration in hours :\" +str(v[1][0]) + \", Duration in minute :\" +str(v[1][1]) +\", Longitude: \"+ str(v[2])+ \", Latitude : \"+str(v[3]))\n",
    "    print('\\n')\n"
   ]
  },
  {
   "cell_type": "code",
   "execution_count": 47,
   "id": "f9f8b303",
   "metadata": {},
   "outputs": [
    {
     "name": "stdout",
     "output_type": "stream",
     "text": [
      "Amsterdam\n",
      "Basel\n",
      "Valletta\n"
     ]
    }
   ],
   "source": [
    "#Find the 3 cities furthest from Jerusalem\n",
    "tmp=sorted(tmp,reverse=True)\n",
    "for i in tmp[0:3]:\n",
    "    print(i[1])"
   ]
  },
  {
   "cell_type": "code",
   "execution_count": null,
   "id": "bf420a57",
   "metadata": {},
   "outputs": [],
   "source": []
  }
 ],
 "metadata": {
  "kernelspec": {
   "display_name": "Python 3 (ipykernel)",
   "language": "python",
   "name": "python3"
  },
  "language_info": {
   "codemirror_mode": {
    "name": "ipython",
    "version": 3
   },
   "file_extension": ".py",
   "mimetype": "text/x-python",
   "name": "python",
   "nbconvert_exporter": "python",
   "pygments_lexer": "ipython3",
   "version": "3.9.7"
  }
 },
 "nbformat": 4,
 "nbformat_minor": 5
}
